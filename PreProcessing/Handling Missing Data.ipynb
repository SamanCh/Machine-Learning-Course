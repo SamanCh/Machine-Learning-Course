{
 "cells": [
  {
   "cell_type": "markdown",
   "id": "416bbc6f",
   "metadata": {},
   "source": [
    "## Delete Rows with Missing Values:"
   ]
  },
  {
   "cell_type": "code",
   "execution_count": null,
   "id": "c5857a0d",
   "metadata": {},
   "outputs": [],
   "source": [
    "print(data.isnull().sum(0))\n",
    "print(data.shape"
   ]
  },
  {
   "cell_type": "code",
   "execution_count": null,
   "id": "e64da055",
   "metadata": {},
   "outputs": [],
   "source": [
    "# Drop rows using dropna Pandas function\n",
    "data.dropna(inplace= True)\n",
    "print(data.isnull().sum(0))\n",
    "print(data.shape)"
   ]
  },
  {
   "cell_type": "markdown",
   "id": "392dc8af",
   "metadata": {},
   "source": [
    "## Impute missing values with Mean/Median:"
   ]
  },
  {
   "cell_type": "code",
   "execution_count": null,
   "id": "5c45f15b",
   "metadata": {},
   "outputs": [],
   "source": [
    "# Create an imputer object that fills missing values with the mean\n",
    "from sklearn.impute import SimpleImputer\n",
    "mean_imputer = SimpleImputer(strategy='mean')\n",
    "\n",
    "# Apply the imputer to the DataFrame\n",
    "df_mean_imputed = pd.DataFrame(mean_imputer.fit_transform(df), columns=df.columns)\n",
    "\n",
    "print(\"\\nDataFrame after Mean Imputation:\")\n",
    "print(df_mean_imputed)"
   ]
  },
  {
   "cell_type": "markdown",
   "id": "b6167791",
   "metadata": {},
   "source": [
    "## Imputation method for categorical columns:"
   ]
  },
  {
   "cell_type": "code",
   "execution_count": null,
   "id": "c6c140a9",
   "metadata": {},
   "outputs": [],
   "source": [
    "# Impute missing values with a constant value (e.g., 'Unknown')\n",
    "constant_imputer = SimpleImputer(strategy='constant', fill_value='Unknown')\n",
    "\n",
    "# Apply the imputer to the DataFrame\n",
    "df_constant_imputed = pd.DataFrame(constant_imputer.fit_transform(df), columns=df.columns)\n",
    "\n",
    "print(\"\\nDataFrame after Imputation with Constant Value 'Unknown':\")\n",
    "print(df_constant_imputed)\n"
   ]
  },
  {
   "cell_type": "markdown",
   "id": "4b7ff0fe",
   "metadata": {},
   "source": [
    "## Last observation carried forward (LOCF) method"
   ]
  },
  {
   "cell_type": "code",
   "execution_count": null,
   "id": "b800e35f",
   "metadata": {},
   "outputs": [],
   "source": [
    "data[\"Age\"] = data[\"Age\"].fillna(method='ffill')"
   ]
  },
  {
   "cell_type": "markdown",
   "id": "15313469",
   "metadata": {},
   "source": [
    "## Using Algorithms that support missing values"
   ]
  },
  {
   "cell_type": "markdown",
   "id": "a4b4c58c",
   "metadata": {},
   "source": [
    "All the machine learning algorithms don’t support missing values but some ML algorithms are robust to missing values in the dataset. The k-NN algorithm can ignore a column from a distance measure when a value is missing. Naive Bayes can also support missing values when making a prediction. These algorithms can be used when the dataset contains null or missing values.\n",
    "\n",
    "The sklearn implementations of naive Bayes and k-Nearest Neighbors in Python do not support the presence of the missing values.\n",
    "\n",
    "Another algorithm that can be used here is RandomForest that works well on non-linear and categorical data. It adapts to the data structure taking into consideration the high variance or the bias, producing better results on large datasets.\n",
    "\n",
    "**Pros:**\n",
    "\n",
    "- No need to handle missing values in each column as ML algorithms will handle them efficiently.\n",
    "\n",
    "**Cons:**\n",
    "\n",
    "- No implementation of these ML algorithms in the scikit-learn library."
   ]
  },
  {
   "cell_type": "markdown",
   "id": "05be04fa",
   "metadata": {},
   "source": [
    "## Prediction of missing values\n",
    "\n",
    "In the earlier methods to handle missing values, we do not use the correlation advantage of the variable containing the missing value and other variables. Using the other features which don’t have nulls can be used to predict missing values.\n",
    "\n",
    "The regression or classification model can be used for the prediction of missing values depending on the nature (categorical or continuous) of the feature having missing value."
   ]
  },
  {
   "cell_type": "code",
   "execution_count": 1,
   "id": "7439e1c6",
   "metadata": {},
   "outputs": [
    {
     "name": "stderr",
     "output_type": "stream",
     "text": [
      "\n",
      "KeyboardInterrupt\n",
      "\n"
     ]
    }
   ],
   "source": [
    "from sklearn.linear_model import LinearRegression\n",
    "import pandas as pd\n",
    "\n",
    "data = pd.read_csv(\"train.csv\")\n",
    "data = data[[\"Survived\", \"Pclass\", \"Sex\", \"SibSp\", \"Parch\", \"Fare\", \"Age\"]]\n",
    "\n",
    "data[\"Sex\"] = [1 if x==\"male\" else 0 for x in data[\"Sex\"]]\n",
    "\n",
    "test_data = data[data[\"Age\"].isnull()]\n",
    "data.dropna(inplace=True)\n",
    "\n",
    "y_train = data[\"Age\"]\n",
    "X_train = data.drop(\"Age\", axis=1)\n",
    "X_test = test_data.drop(\"Age\", axis=1)\n",
    "\n",
    "model = LinearRegression()\n",
    "model.fit(X_train, y_train)\n",
    "\n",
    "y_pred = model.predict(X_test)"
   ]
  },
  {
   "cell_type": "markdown",
   "id": "ef2cfd8a",
   "metadata": {},
   "source": [
    "## Imputation using Deep Learning Library — Datawig\n",
    "\n",
    "This method works very well with categorical, continuous, and non-numerical features. Datawig is a library that learns ML models using Deep Neural Networks to impute missing values in the datagram.\n",
    "\n",
    "`Install datawig library,\n",
    "pip3 install datawig`\n",
    "\n",
    "Datawig can take a data frame and fit an imputation model for each column with missing values, with all other columns as inputs."
   ]
  },
  {
   "cell_type": "code",
   "execution_count": 2,
   "id": "466b73a0",
   "metadata": {},
   "outputs": [
    {
     "ename": "SyntaxError",
     "evalue": "invalid syntax (818210435.py, line 2)",
     "output_type": "error",
     "traceback": [
      "\u001b[1;36m  Cell \u001b[1;32mIn[2], line 2\u001b[1;36m\u001b[0m\n\u001b[1;33m    pip install datawig\u001b[0m\n\u001b[1;37m        ^\u001b[0m\n\u001b[1;31mSyntaxError\u001b[0m\u001b[1;31m:\u001b[0m invalid syntax\n"
     ]
    }
   ],
   "source": [
    "data = pd.read_csv(\"train.csv\")\n",
    "\n",
    "df_train, df_test = datawig.utils.random_split(data)\n",
    "\n",
    "#Initialize a SimpleImputer model\n",
    "imputer = datawig.SimpleImputer(\n",
    "    input_columns=['Pclass','SibSp','Parch'], # column(s) containing information about the column we want to impute\n",
    "    output_column= 'Age', # the column we'd like to impute values for\n",
    "    output_path = 'imputer_model' # stores model data and metrics\n",
    "    )\n",
    "\n",
    "#Fit an imputer model on the train data\n",
    "imputer.fit(train_df=df_train, num_epochs=50)\n",
    "\n",
    "#Impute missing values and return original dataframe with predictions\n",
    "imputed = imputer.predict(df_test)"
   ]
  }
 ],
 "metadata": {
  "kernelspec": {
   "display_name": "Python 3 (ipykernel)",
   "language": "python",
   "name": "python3"
  },
  "language_info": {
   "codemirror_mode": {
    "name": "ipython",
    "version": 3
   },
   "file_extension": ".py",
   "mimetype": "text/x-python",
   "name": "python",
   "nbconvert_exporter": "python",
   "pygments_lexer": "ipython3",
   "version": "3.11.5"
  }
 },
 "nbformat": 4,
 "nbformat_minor": 5
}

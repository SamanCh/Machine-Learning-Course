{
 "cells": [
  {
   "cell_type": "markdown",
   "id": "ef02e837",
   "metadata": {},
   "source": [
    "## Method 1: Importing Data For Datasets Using CSV Files"
   ]
  },
  {
   "cell_type": "code",
   "execution_count": null,
   "id": "228debba",
   "metadata": {},
   "outputs": [],
   "source": [
    "import pandas as pd\n",
    "print('Read data...')\n",
    "\n",
    "#enter the complete path of the csv file\n",
    "df = pd.read_csv('../dataset.csv',header=0).head(1000)\n",
    "data = df.values"
   ]
  },
  {
   "cell_type": "markdown",
   "id": "b36e55c2",
   "metadata": {},
   "source": [
    "## Method 2: Importing Data For Datasets Using Sklearn"
   ]
  },
  {
   "cell_type": "code",
   "execution_count": null,
   "id": "2cf77be0",
   "metadata": {},
   "outputs": [],
   "source": [
    "from pybrain.datasets import ClassificationDataSet\n",
    "from sklearn import datasets\n",
    "\n",
    "nums = datasets.load_iris()\n",
    "x, y = nums.data, nums.target\n",
    "ds = ClassificationDataSet(4, 1, nb_classes=3)\n",
    "\n",
    "for j in range(len(x)):\n",
    "ds.addSample(x[j], y[j])\n",
    "ds"
   ]
  },
  {
   "cell_type": "code",
   "execution_count": null,
   "id": "5bd07079",
   "metadata": {},
   "outputs": [],
   "source": [
    "from sklearn import datasets\n",
    "from pybrain.datasets import ClassificationDataSet\n",
    "\n",
    "digits = datasets.load_digits()\n",
    "X, y = digits.data, digits.target\n",
    "\n",
    "ds = ClassificationDataSet(64, 1, nb_classes=10)\n",
    "\n",
    "for i in range(len(X)):\n",
    "ds.addSample(ravel(X[i]), y[i])"
   ]
  }
 ],
 "metadata": {
  "kernelspec": {
   "display_name": "Python 3 (ipykernel)",
   "language": "python",
   "name": "python3"
  },
  "language_info": {
   "codemirror_mode": {
    "name": "ipython",
    "version": 3
   },
   "file_extension": ".py",
   "mimetype": "text/x-python",
   "name": "python",
   "nbconvert_exporter": "python",
   "pygments_lexer": "ipython3",
   "version": "3.11.5"
  }
 },
 "nbformat": 4,
 "nbformat_minor": 5
}
